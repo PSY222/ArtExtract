{
 "cells": [
  {
   "cell_type": "code",
   "execution_count": 1,
   "id": "4ca69727-cb31-473e-a618-d32264e370a5",
   "metadata": {},
   "outputs": [],
   "source": [
    "import unet_train\n",
    "import torch.nn as nn\n",
    "from unet_losses import FeatureLoss, PixelwiseLoss\n",
    "from load_data import load_datasets\n",
    "from unet import UNet\n",
    "\n",
    "import torch\n",
    "import torch.optim as optim\n",
    "import torchvision.models as models\n",
    "from torchvision.models.vgg import VGG16_Weights\n",
    "from unet_train import train_test_model\n",
    "\n",
    "class VGGFeatureExtractor(nn.Module):\n",
    "    def __init__(self):\n",
    "        super(VGGFeatureExtractor, self).__init__()\n",
    "        vgg = models.vgg16(weights=VGG16_Weights.DEFAULT)\n",
    "        vgg.features[0] = nn.Conv2d(1, 64, kernel_size=3, padding=1)\n",
    "        self.features = vgg.features[:23] \n",
    "\n",
    "    def forward(self, x):\n",
    "        return self.features(x)"
   ]
  },
  {
   "cell_type": "code",
   "execution_count": 2,
   "id": "ceeade36-c5e6-4262-a494-a3baaa007b3b",
   "metadata": {
    "tags": []
   },
   "outputs": [
    {
     "name": "stdout",
     "output_type": "stream",
     "text": [
      "cuda\n"
     ]
    }
   ],
   "source": [
    "device = torch.device('cuda' if torch.cuda.is_available() else 'cpu')\n",
    "print(device)\n",
    "unet_model = UNet()\n",
    "vgg_feature_extractor = VGGFeatureExtractor()\n",
    "    \n",
    "unet_model.to(device)\n",
    "vgg_feature_extractor.to(device)\n",
    "learning_rate = 0.002\n",
    "\n",
    "pixelwise_loss = PixelwiseLoss().to(device)\n",
    "feature_loss = FeatureLoss(vgg_feature_extractor).to(device)\n",
    "optimizer = optim.NAdam(unet_model.parameters(), lr=learning_rate)\n",
    "epochs = 5"
   ]
  },
  {
   "cell_type": "code",
   "execution_count": 3,
   "id": "071087d8-4852-4d01-b804-bb84f1d6ee71",
   "metadata": {
    "tags": []
   },
   "outputs": [],
   "source": [
    "train_path = '../data/train/'\n",
    "val_path = '../data/val/'"
   ]
  },
  {
   "cell_type": "code",
   "execution_count": 6,
   "id": "af0a1813-b25f-4c65-a4a3-78ca89dc3a69",
   "metadata": {},
   "outputs": [
    {
     "ename": "OutOfMemoryError",
     "evalue": "CUDA out of memory. Tried to allocate 24.00 MiB. GPU 0 has a total capacity of 79.33 GiB of which 2.00 MiB is free. Process 1437950 has 79.32 GiB memory in use. Of the allocated memory 78.28 GiB is allocated by PyTorch, and 556.44 MiB is reserved by PyTorch but unallocated. If reserved but unallocated memory is large try setting PYTORCH_CUDA_ALLOC_CONF=expandable_segments:True to avoid fragmentation.  See documentation for Memory Management  (https://pytorch.org/docs/stable/notes/cuda.html#environment-variables)",
     "output_type": "error",
     "traceback": [
      "\u001b[0;31m---------------------------------------------------------------------------\u001b[0m",
      "\u001b[0;31mOutOfMemoryError\u001b[0m                          Traceback (most recent call last)",
      "Cell \u001b[0;32mIn[6], line 1\u001b[0m\n\u001b[0;32m----> 1\u001b[0m \u001b[43mtrain_test_model\u001b[49m\u001b[43m(\u001b[49m\u001b[43munet_model\u001b[49m\u001b[43m,\u001b[49m\u001b[43mtrain_path\u001b[49m\u001b[43m,\u001b[49m\u001b[43mval_path\u001b[49m\u001b[43m,\u001b[49m\u001b[43m \u001b[49m\u001b[43mfeature_loss\u001b[49m\u001b[43m,\u001b[49m\u001b[43m \u001b[49m\u001b[43mpixelwise_loss\u001b[49m\u001b[43m,\u001b[49m\u001b[43m \u001b[49m\u001b[43moptimizer\u001b[49m\u001b[43m,\u001b[49m\u001b[43m \u001b[49m\u001b[43mdevice\u001b[49m\u001b[43m,\u001b[49m\u001b[43m \u001b[49m\u001b[43mnum_epochs\u001b[49m\u001b[38;5;241;43m=\u001b[39;49m\u001b[43mepochs\u001b[49m\u001b[43m)\u001b[49m\n",
      "File \u001b[0;32m~/PSY/gsoc/ArtExtract/model/unet_train.py:51\u001b[0m, in \u001b[0;36mtrain_test_model\u001b[0;34m(model, train_path, val_path, feature_loss, pixelwise_loss, optimizer, device, num_epochs, patience)\u001b[0m\n\u001b[1;32m     49\u001b[0m running_loss \u001b[38;5;241m=\u001b[39m \u001b[38;5;241m0.0\u001b[39m\n\u001b[1;32m     50\u001b[0m \u001b[38;5;28;01mfor\u001b[39;00m images, masks \u001b[38;5;129;01min\u001b[39;00m train_loader:\n\u001b[0;32m---> 51\u001b[0m     images \u001b[38;5;241m=\u001b[39m \u001b[43mimages\u001b[49m\u001b[38;5;241;43m.\u001b[39;49m\u001b[43mto\u001b[49m\u001b[43m(\u001b[49m\u001b[43mdevice\u001b[49m\u001b[43m)\u001b[49m\n\u001b[1;32m     52\u001b[0m     masks \u001b[38;5;241m=\u001b[39m masks\u001b[38;5;241m.\u001b[39mto(device)\n\u001b[1;32m     53\u001b[0m     optimizer\u001b[38;5;241m.\u001b[39mzero_grad()\n",
      "\u001b[0;31mOutOfMemoryError\u001b[0m: CUDA out of memory. Tried to allocate 24.00 MiB. GPU 0 has a total capacity of 79.33 GiB of which 2.00 MiB is free. Process 1437950 has 79.32 GiB memory in use. Of the allocated memory 78.28 GiB is allocated by PyTorch, and 556.44 MiB is reserved by PyTorch but unallocated. If reserved but unallocated memory is large try setting PYTORCH_CUDA_ALLOC_CONF=expandable_segments:True to avoid fragmentation.  See documentation for Memory Management  (https://pytorch.org/docs/stable/notes/cuda.html#environment-variables)"
     ]
    }
   ],
   "source": [
    "train_test_model(unet_model,train_path,val_path, feature_loss, pixelwise_loss, optimizer, device, num_epochs=epochs)"
   ]
  },
  {
   "cell_type": "code",
   "execution_count": 5,
   "id": "92b98efc-511a-477b-9dea-f9f45412cb6f",
   "metadata": {},
   "outputs": [
    {
     "data": {
      "text/plain": [
       "1314"
      ]
     },
     "execution_count": 5,
     "metadata": {},
     "output_type": "execute_result"
    }
   ],
   "source": [
    "import gc\n",
    "gc.collect()"
   ]
  },
  {
   "cell_type": "code",
   "execution_count": null,
   "id": "91c9b0d6-c37a-417d-8f91-440f8c46e6ce",
   "metadata": {},
   "outputs": [],
   "source": []
  }
 ],
 "metadata": {
  "kernelspec": {
   "display_name": "Python 3 (ipykernel)",
   "language": "python",
   "name": "python3"
  },
  "language_info": {
   "codemirror_mode": {
    "name": "ipython",
    "version": 3
   },
   "file_extension": ".py",
   "mimetype": "text/x-python",
   "name": "python",
   "nbconvert_exporter": "python",
   "pygments_lexer": "ipython3",
   "version": "3.10.13"
  }
 },
 "nbformat": 4,
 "nbformat_minor": 5
}
